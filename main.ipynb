{
 "cells": [
  {
   "cell_type": "code",
   "execution_count": 1,
   "metadata": {},
   "outputs": [],
   "source": [
    "import os\n",
    "from dotenv import load_dotenv\n",
    "\n",
    "load_dotenv()\n",
    "OPENAI_API_KEY=os.getenv(\"OPENAI_API_KEY\")\n",
    "MODEL=\"gpt-3.5-turbo\"\n",
    "MODEL=\"llama2\"\n",
    "# MODEL=\"mixtral:8x7b\""
   ]
  },
  {
   "cell_type": "code",
   "execution_count": 2,
   "metadata": {},
   "outputs": [
    {
     "name": "stderr",
     "output_type": "stream",
     "text": [
      "c:\\Python310\\lib\\site-packages\\requests\\__init__.py:109: RequestsDependencyWarning: urllib3 (2.2.1) or chardet (None)/charset_normalizer (3.0.1) doesn't match a supported version!\n",
      "  warnings.warn(\n"
     ]
    },
    {
     "data": {
      "text/plain": [
       "\"Sure, here's one:\\n\\nWhy don't scientists trust atoms?\\nBecause they make up everything!\""
      ]
     },
     "execution_count": 2,
     "metadata": {},
     "output_type": "execute_result"
    }
   ],
   "source": [
    "from langchain_openai.chat_models import ChatOpenAI \n",
    "from langchain_openai.embeddings import OpenAIEmbeddings\n",
    "from langchain_community.llms import Ollama\n",
    "from langchain_community.embeddings import OllamaEmbeddings\n",
    "\n",
    "if MODEL.startswith(\"gpt\"):\n",
    "    model=ChatOpenAI(api_key=OPENAI_API_KEY, model=MODEL)\n",
    "    embeddings=OpenAIEmbeddings()\n",
    "else:\n",
    "    model=Ollama(model=MODEL)\n",
    "    embeddings=OllamaEmbeddings()\n",
    "model.invoke(\"Tell me a joke\")"
   ]
  },
  {
   "cell_type": "code",
   "execution_count": 3,
   "metadata": {},
   "outputs": [
    {
     "data": {
      "text/plain": [
       "\"Sure! Here's one:\\n\\nWhy don't scientists trust atoms?\\nBecause they make up everything!\""
      ]
     },
     "execution_count": 3,
     "metadata": {},
     "output_type": "execute_result"
    }
   ],
   "source": [
    "from langchain_core.output_parsers import StrOutputParser\n",
    "\n",
    "parser=StrOutputParser()\n",
    "chain=model | parser\n",
    "chain.invoke(\"Tell me a joke\")"
   ]
  },
  {
   "cell_type": "code",
   "execution_count": 4,
   "metadata": {},
   "outputs": [
    {
     "data": {
      "text/plain": [
       "[Document(page_content='Dear Sir/Madam,A2312180286\\nTo,\\nAtharva Sadashiv Tapkir & Sadashiv Pandharinath Tapkir & Smita Sadashiv Tapkir\\nAddress : Sr No 52 1 Building No B 7 Flat No 05 Shantiban Society Near Eklavya Collage Tc Kothrud Po Serviceman Colony,\\nPune, 411038, Maharashtra\\nSubject: Education Loan Sanction Letter\\nBased upon and relying on the facts and information provided by you in your Application Form No. A2312180286 dated 18/12/2023 seeking grant of an\\nEducation Loan (\"loan\"), we have pleasure in conveying you our sanction of an amount of Rs. 50,00,000/- (Rupees Fifty Lakh only) (equivalent to USD\\n60,233.71 approx. at exchange rate of 1 USD : 83.01 INR. ) on following terms:\\nThe Educational Loan availability is subject to satisfactory completion of loan documentation. This letter of offer shall stand unilaterally revoked and\\ncancelled and shall be absolutely null and void even after acceptance by you, if:\\nHDFC Credila Financial Services Limited\\nAuthorized signatory\\nApplication No.: Date : 12-Jan-2024\\nThis is system generated letter does not require signature/Company stampRate of interest : 10.25% p.a. floating rate\\nTerm : The loan will be re-paid in a total of 168 monthly installments (\"MI\"). The MIs for first 36 months will be Rs. 5,000/- per month\\nand for next 132 months will be Rs. 83,334/- per month.\\nFees : A onetime non refundable origination fees equivalent to Rs. 59,000/- inclusive of all taxes\\nValidity of this offer : This Sanction letter is valid till 10-Jan-2025\\nMI ACH and Security ACH Mandate From : Sadashiv Pandharinath Tapkir, BANK OF INDIA, Pune, AC#: 050710100022960\\nInsurance to be taken by the Applicant and duly assigned in favour of HDFC Credila Financial Services Limited.\\nLoan Collateral^ : The Applicant/s shall provide collateral by way of [mortgage of immovable property being : Building No B 7 1st\\nFloor Flat/ Shop No 5 Shantiban Society Near Eklavya Collage Tc Kothrud Po Serviceman Colony, Pune, Maharashtra owned by\\nSadashiv Tapkir ]\\nVisa : Loan to be disbursed only after receiving a valid visa to study in the country of study from the competent authority\\nWe look forward to your acceptance of this offer in order to expedite the conclusion of this transaction and the disbursement hereunder. Please schedule an\\nappointment at the nearest HDFC Credila branch to discuss further terms and conditions and also complete the loan related paperwork and formalities.There are any material changes in the proposal for which the said loan is sanctioned. Final disbursement will be made based on the favorable\\nvalidation and authentication of all supplied documents\\nAny material fact concerning your income/profits or ability to pay, or any other relevant aspect of your application of Loan is withheld,\\nsuppressed, or concealed or not made known to us\\nAny statement made in the application is found to be incorrect or untrue\\nThe Education Loan Agreement and other documents, as required by us are not executed before validity of this sanction letter or during any\\nfurther extension of the period mutually agreed upon\\nAny information as may be required by HDFC Credila from time to time pertaining to the project is not furnished in the form prescribed/approved\\nby HDFC Credila\\nAs an outcome of legal due diligence, HDFC Credila is of the view that it is unviable to proceed further with the offer as made\\nhereinabove\\nDisbursement of each tranche will be based on favorable verification and financial check of applicant/s\\nWe wish you the very best in your education endeavors.^Original Loan collateral documents mortgaged with HDFC Credila shall be returned within 30 days (or such other number of days as prescribed under law) from the\\noffice from where the loan has been serviced upon full repayment or settlement of the said education loan.', metadata={'source': 'sanction-letter-A2312180286.pdf', 'page': 0})]"
      ]
     },
     "execution_count": 4,
     "metadata": {},
     "output_type": "execute_result"
    }
   ],
   "source": [
    "from langchain_community.document_loaders import PyPDFLoader\n",
    "\n",
    "loader=PyPDFLoader(\"sanction-letter-A2312180286.pdf\")\n",
    "pages=loader.load_and_split()\n",
    "pages"
   ]
  },
  {
   "cell_type": "code",
   "execution_count": 5,
   "metadata": {},
   "outputs": [
    {
     "name": "stdout",
     "output_type": "stream",
     "text": [
      " \n",
      "Answer the question based on the context below. \n",
      "If you can't answer the question, reply 'I dont know'.\n",
      "\n",
      "Context: Here is some context\n",
      "Question: Here is a question\n",
      "\n"
     ]
    }
   ],
   "source": [
    "from langchain.prompts import PromptTemplate\n",
    "\n",
    "template=\"\"\" \n",
    "Answer the question based on the context below. \n",
    "If you can't answer the question, reply 'I dont know'.\n",
    "\n",
    "Context: {context}\n",
    "Question: {question}\n",
    "\"\"\"\n",
    "prompt=PromptTemplate.from_template(template)\n",
    "print(prompt.format(context=\"Here is some context\", question=\"Here is a question\"))"
   ]
  },
  {
   "cell_type": "code",
   "execution_count": 6,
   "metadata": {},
   "outputs": [],
   "source": [
    "chain=prompt | model | parser"
   ]
  },
  {
   "cell_type": "code",
   "execution_count": 7,
   "metadata": {},
   "outputs": [
    {
     "data": {
      "text/plain": [
       "{'title': 'PromptInput',\n",
       " 'type': 'object',\n",
       " 'properties': {'context': {'title': 'Context', 'type': 'string'},\n",
       "  'question': {'title': 'Question', 'type': 'string'}}}"
      ]
     },
     "execution_count": 7,
     "metadata": {},
     "output_type": "execute_result"
    }
   ],
   "source": [
    "chain.input_schema.schema()"
   ]
  },
  {
   "cell_type": "code",
   "execution_count": 8,
   "metadata": {},
   "outputs": [
    {
     "data": {
      "text/plain": [
       "' Sure! Based on the context provided, your name is Atharva.'"
      ]
     },
     "execution_count": 8,
     "metadata": {},
     "output_type": "execute_result"
    }
   ],
   "source": [
    "chain.invoke(\n",
    "    {\n",
    "        \"context\": \"The name I was given was Atharva\",\n",
    "        \"question\": \"What is my name?\"\n",
    "    }\n",
    ")"
   ]
  },
  {
   "cell_type": "code",
   "execution_count": 9,
   "metadata": {},
   "outputs": [],
   "source": [
    "from langchain_community.vectorstores import DocArrayInMemorySearch\n",
    "\n",
    "vectorstore=DocArrayInMemorySearch.from_documents(\n",
    "    pages,\n",
    "    embedding=embeddings\n",
    ")"
   ]
  },
  {
   "cell_type": "code",
   "execution_count": 17,
   "metadata": {},
   "outputs": [
    {
     "data": {
      "text/plain": [
       "[Document(page_content='Dear Sir/Madam,A2312180286\\nTo,\\nAtharva Sadashiv Tapkir & Sadashiv Pandharinath Tapkir & Smita Sadashiv Tapkir\\nAddress : Sr No 52 1 Building No B 7 Flat No 05 Shantiban Society Near Eklavya Collage Tc Kothrud Po Serviceman Colony,\\nPune, 411038, Maharashtra\\nSubject: Education Loan Sanction Letter\\nBased upon and relying on the facts and information provided by you in your Application Form No. A2312180286 dated 18/12/2023 seeking grant of an\\nEducation Loan (\"loan\"), we have pleasure in conveying you our sanction of an amount of Rs. 50,00,000/- (Rupees Fifty Lakh only) (equivalent to USD\\n60,233.71 approx. at exchange rate of 1 USD : 83.01 INR. ) on following terms:\\nThe Educational Loan availability is subject to satisfactory completion of loan documentation. This letter of offer shall stand unilaterally revoked and\\ncancelled and shall be absolutely null and void even after acceptance by you, if:\\nHDFC Credila Financial Services Limited\\nAuthorized signatory\\nApplication No.: Date : 12-Jan-2024\\nThis is system generated letter does not require signature/Company stampRate of interest : 10.25% p.a. floating rate\\nTerm : The loan will be re-paid in a total of 168 monthly installments (\"MI\"). The MIs for first 36 months will be Rs. 5,000/- per month\\nand for next 132 months will be Rs. 83,334/- per month.\\nFees : A onetime non refundable origination fees equivalent to Rs. 59,000/- inclusive of all taxes\\nValidity of this offer : This Sanction letter is valid till 10-Jan-2025\\nMI ACH and Security ACH Mandate From : Sadashiv Pandharinath Tapkir, BANK OF INDIA, Pune, AC#: 050710100022960\\nInsurance to be taken by the Applicant and duly assigned in favour of HDFC Credila Financial Services Limited.\\nLoan Collateral^ : The Applicant/s shall provide collateral by way of [mortgage of immovable property being : Building No B 7 1st\\nFloor Flat/ Shop No 5 Shantiban Society Near Eklavya Collage Tc Kothrud Po Serviceman Colony, Pune, Maharashtra owned by\\nSadashiv Tapkir ]\\nVisa : Loan to be disbursed only after receiving a valid visa to study in the country of study from the competent authority\\nWe look forward to your acceptance of this offer in order to expedite the conclusion of this transaction and the disbursement hereunder. Please schedule an\\nappointment at the nearest HDFC Credila branch to discuss further terms and conditions and also complete the loan related paperwork and formalities.There are any material changes in the proposal for which the said loan is sanctioned. Final disbursement will be made based on the favorable\\nvalidation and authentication of all supplied documents\\nAny material fact concerning your income/profits or ability to pay, or any other relevant aspect of your application of Loan is withheld,\\nsuppressed, or concealed or not made known to us\\nAny statement made in the application is found to be incorrect or untrue\\nThe Education Loan Agreement and other documents, as required by us are not executed before validity of this sanction letter or during any\\nfurther extension of the period mutually agreed upon\\nAny information as may be required by HDFC Credila from time to time pertaining to the project is not furnished in the form prescribed/approved\\nby HDFC Credila\\nAs an outcome of legal due diligence, HDFC Credila is of the view that it is unviable to proceed further with the offer as made\\nhereinabove\\nDisbursement of each tranche will be based on favorable verification and financial check of applicant/s\\nWe wish you the very best in your education endeavors.^Original Loan collateral documents mortgaged with HDFC Credila shall be returned within 30 days (or such other number of days as prescribed under law) from the\\noffice from where the loan has been serviced upon full repayment or settlement of the said education loan.', metadata={'source': 'sanction-letter-A2312180286.pdf', 'page': 0})]"
      ]
     },
     "execution_count": 17,
     "metadata": {},
     "output_type": "execute_result"
    }
   ],
   "source": [
    "retriever=vectorstore.as_retriever()\n",
    "retriever.invoke(\"interest rate\") "
   ]
  },
  {
   "cell_type": "code",
   "execution_count": 18,
   "metadata": {},
   "outputs": [
    {
     "data": {
      "text/plain": [
       "'The interest rate mentioned in the sanction letter is 10.25% p.a. floating rate.'"
      ]
     },
     "execution_count": 18,
     "metadata": {},
     "output_type": "execute_result"
    }
   ],
   "source": [
    "from operator import itemgetter\n",
    "chain=(\n",
    "    {\"context\": itemgetter(\"question\") | retriever, \"question\": itemgetter(\"question\")} \n",
    "    | prompt \n",
    "    | model \n",
    "    | parser\n",
    ")\n",
    "chain.invoke({\"question\": \"interest rate\"})"
   ]
  },
  {
   "cell_type": "code",
   "execution_count": 19,
   "metadata": {},
   "outputs": [
    {
     "data": {
      "text/plain": [
       "'What is the interest rate?'"
      ]
     },
     "execution_count": 19,
     "metadata": {},
     "output_type": "execute_result"
    }
   ],
   "source": [
    "itemgetter(\"question\")({\"question\": \"What is the interest rate?\"})"
   ]
  },
  {
   "cell_type": "code",
   "execution_count": 22,
   "metadata": {},
   "outputs": [
    {
     "name": "stdout",
     "output_type": "stream",
     "text": [
      "Question: What is the interest rate provided?\n",
      "The interest rate provided in the sanction letter is 10.25% p.a. floating rate.\n",
      "Question: How much loan amount is sanctioned?\n",
      "The loan amount sanctioned is Rs. 50,00,000/- (Rupees Fifty Lakh only).\n",
      "Question: What is the validity of this sanction letter?\n",
      " Based on the context provided, the validity of the sanction letter is mentioned as \"This Sanction letter is valid till 10-Jan-2025\".\n",
      "Question: what collateral is provided for the loan?\n",
      "Based on the document provided, the collateral provided for the loan is a mortgage of immovable property being Building No B 7, 1st Floor Flat/ Shop No 5, Shantiban Society Near Eklavya Collage Tc Kothrud Po Serviceman Colony, Pune, Maharashtra owned by Sadashiv Tapkir.\n",
      "Question: What is the term of loan repayment?\n",
      "Based on the provided context, the term of loan repayment for the education loan sanctioned to Sadashiv Pandharinath Tapkir and Smita Sadashiv Tapkir is 168 months (or 13 years and 4 months).\n"
     ]
    }
   ],
   "source": [
    "questions=[\n",
    "    \"What is the interest rate provided?\",\n",
    "    \"How much loan amount is sanctioned?\",\n",
    "    \"What is the validity of this sanction letter?\",\n",
    "    \"what collateral is provided for the loan?\",\n",
    "    \"What is the term of loan repayment?\"\n",
    "]\n",
    "\n",
    "for question in questions:\n",
    "    print(f\"Question: {question}\")\n",
    "    for s in chain.stream({'question': question}):\n",
    "        print(s, end=\"\", flush=True)\n",
    "    # print(f\"Answer: {chain.invoke({'question': question})}\")\n",
    "    print()"
   ]
  },
  {
   "cell_type": "code",
   "execution_count": null,
   "metadata": {},
   "outputs": [],
   "source": [
    "# chain.batch([{\"question\": q} for q in questions])"
   ]
  }
 ],
 "metadata": {
  "kernelspec": {
   "display_name": "Python 3",
   "language": "python",
   "name": "python3"
  },
  "language_info": {
   "codemirror_mode": {
    "name": "ipython",
    "version": 3
   },
   "file_extension": ".py",
   "mimetype": "text/x-python",
   "name": "python",
   "nbconvert_exporter": "python",
   "pygments_lexer": "ipython3",
   "version": "3.10.7"
  }
 },
 "nbformat": 4,
 "nbformat_minor": 2
}
